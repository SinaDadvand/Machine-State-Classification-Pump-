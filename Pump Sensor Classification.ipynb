{
  "nbformat": 4,
  "nbformat_minor": 2,
  "metadata": {
    "colab": {
      "name": "SinaDadvand_Project 1.ipynb",
      "provenance": [],
      "collapsed_sections": []
    },
    "kernelspec": {
      "name": "python3",
      "display_name": "Python 3.9.0 64-bit"
    },
    "language_info": {
      "name": "python",
      "version": "3.9.0",
      "mimetype": "text/x-python",
      "codemirror_mode": {
        "name": "ipython",
        "version": 3
      },
      "pygments_lexer": "ipython3",
      "nbconvert_exporter": "python",
      "file_extension": ".py"
    },
    "interpreter": {
      "hash": "63fd5069d213b44bf678585dea6b12cceca9941eaf7f819626cde1f2670de90d"
    }
  },
  "cells": [
    {
      "cell_type": "markdown",
      "source": [
        "# **Predictive Maintenance with Pump Sensor data**"
      ],
      "metadata": {
        "id": "EoWQAC2JJoZQ"
      }
    },
    {
      "cell_type": "markdown",
      "source": [
        "In this notebook we are going to try and train a classifier to predict the state of a pump based on the sensors output. We have selected Logistic Regression as our classifier. Since the results for classification seemed too good to be true, we also tried oversampling and test-validation-train methods alongside usual test-train workflow.\r\n",
        " "
      ],
      "metadata": {
        "id": "6RSQxaddASq-"
      }
    },
    {
      "cell_type": "markdown",
      "source": [
        "## **Import Libraries** \r\n",
        "Like usual, we start with importing the libraries we need, and add additional libraries as we progress through the notebook here.\r\n"
      ],
      "metadata": {
        "id": "Q2yTa45FJzAW"
      }
    },
    {
      "cell_type": "code",
      "execution_count": 1,
      "source": [
        "import pandas as pd\r\n",
        "import matplotlib.pyplot as plt\r\n",
        "import seaborn as sns\r\n",
        "import numpy as np\r\n",
        "import numpy.random as nr\r\n",
        "import math\r\n",
        "from sklearn import preprocessing\r\n",
        "import sklearn.model_selection as ms\r\n",
        "from sklearn import linear_model\r\n",
        "import sklearn.metrics as sklm\r\n",
        "\r\n",
        "%matplotlib inline"
      ],
      "outputs": [],
      "metadata": {
        "id": "ZDUhE_YeJp9_"
      }
    },
    {
      "cell_type": "markdown",
      "source": [
        "## Import the Data\r\n",
        "The data is downloaded from Kaggle.com, in form of a CSV file. Therefore, we are using pandas to import the data into Python."
      ],
      "metadata": {}
    },
    {
      "cell_type": "code",
      "execution_count": 60,
      "source": [
        "df = pd.read_csv(\"sensor.csv\", sep=',' , header = 0, index_col=0)\r\n",
        "df.head()"
      ],
      "outputs": [
        {
          "output_type": "execute_result",
          "data": {
            "text/html": [
              "<div>\n",
              "<style scoped>\n",
              "    .dataframe tbody tr th:only-of-type {\n",
              "        vertical-align: middle;\n",
              "    }\n",
              "\n",
              "    .dataframe tbody tr th {\n",
              "        vertical-align: top;\n",
              "    }\n",
              "\n",
              "    .dataframe thead th {\n",
              "        text-align: right;\n",
              "    }\n",
              "</style>\n",
              "<table border=\"1\" class=\"dataframe\">\n",
              "  <thead>\n",
              "    <tr style=\"text-align: right;\">\n",
              "      <th></th>\n",
              "      <th>timestamp</th>\n",
              "      <th>sensor_00</th>\n",
              "      <th>sensor_01</th>\n",
              "      <th>sensor_02</th>\n",
              "      <th>sensor_03</th>\n",
              "      <th>sensor_04</th>\n",
              "      <th>sensor_05</th>\n",
              "      <th>sensor_06</th>\n",
              "      <th>sensor_07</th>\n",
              "      <th>sensor_08</th>\n",
              "      <th>...</th>\n",
              "      <th>sensor_43</th>\n",
              "      <th>sensor_44</th>\n",
              "      <th>sensor_45</th>\n",
              "      <th>sensor_46</th>\n",
              "      <th>sensor_47</th>\n",
              "      <th>sensor_48</th>\n",
              "      <th>sensor_49</th>\n",
              "      <th>sensor_50</th>\n",
              "      <th>sensor_51</th>\n",
              "      <th>machine_status</th>\n",
              "    </tr>\n",
              "  </thead>\n",
              "  <tbody>\n",
              "    <tr>\n",
              "      <th>0</th>\n",
              "      <td>2018-04-01 00:00:00</td>\n",
              "      <td>2.465394</td>\n",
              "      <td>47.09201</td>\n",
              "      <td>53.2118</td>\n",
              "      <td>46.310760</td>\n",
              "      <td>634.3750</td>\n",
              "      <td>76.45975</td>\n",
              "      <td>13.41146</td>\n",
              "      <td>16.13136</td>\n",
              "      <td>15.56713</td>\n",
              "      <td>...</td>\n",
              "      <td>41.92708</td>\n",
              "      <td>39.641200</td>\n",
              "      <td>65.68287</td>\n",
              "      <td>50.92593</td>\n",
              "      <td>38.194440</td>\n",
              "      <td>157.9861</td>\n",
              "      <td>67.70834</td>\n",
              "      <td>243.0556</td>\n",
              "      <td>201.3889</td>\n",
              "      <td>NORMAL</td>\n",
              "    </tr>\n",
              "    <tr>\n",
              "      <th>1</th>\n",
              "      <td>2018-04-01 00:01:00</td>\n",
              "      <td>2.465394</td>\n",
              "      <td>47.09201</td>\n",
              "      <td>53.2118</td>\n",
              "      <td>46.310760</td>\n",
              "      <td>634.3750</td>\n",
              "      <td>76.45975</td>\n",
              "      <td>13.41146</td>\n",
              "      <td>16.13136</td>\n",
              "      <td>15.56713</td>\n",
              "      <td>...</td>\n",
              "      <td>41.92708</td>\n",
              "      <td>39.641200</td>\n",
              "      <td>65.68287</td>\n",
              "      <td>50.92593</td>\n",
              "      <td>38.194440</td>\n",
              "      <td>157.9861</td>\n",
              "      <td>67.70834</td>\n",
              "      <td>243.0556</td>\n",
              "      <td>201.3889</td>\n",
              "      <td>NORMAL</td>\n",
              "    </tr>\n",
              "    <tr>\n",
              "      <th>2</th>\n",
              "      <td>2018-04-01 00:02:00</td>\n",
              "      <td>2.444734</td>\n",
              "      <td>47.35243</td>\n",
              "      <td>53.2118</td>\n",
              "      <td>46.397570</td>\n",
              "      <td>638.8889</td>\n",
              "      <td>73.54598</td>\n",
              "      <td>13.32465</td>\n",
              "      <td>16.03733</td>\n",
              "      <td>15.61777</td>\n",
              "      <td>...</td>\n",
              "      <td>41.66666</td>\n",
              "      <td>39.351852</td>\n",
              "      <td>65.39352</td>\n",
              "      <td>51.21528</td>\n",
              "      <td>38.194443</td>\n",
              "      <td>155.9606</td>\n",
              "      <td>67.12963</td>\n",
              "      <td>241.3194</td>\n",
              "      <td>203.7037</td>\n",
              "      <td>NORMAL</td>\n",
              "    </tr>\n",
              "    <tr>\n",
              "      <th>3</th>\n",
              "      <td>2018-04-01 00:03:00</td>\n",
              "      <td>2.460474</td>\n",
              "      <td>47.09201</td>\n",
              "      <td>53.1684</td>\n",
              "      <td>46.397568</td>\n",
              "      <td>628.1250</td>\n",
              "      <td>76.98898</td>\n",
              "      <td>13.31742</td>\n",
              "      <td>16.24711</td>\n",
              "      <td>15.69734</td>\n",
              "      <td>...</td>\n",
              "      <td>40.88541</td>\n",
              "      <td>39.062500</td>\n",
              "      <td>64.81481</td>\n",
              "      <td>51.21528</td>\n",
              "      <td>38.194440</td>\n",
              "      <td>155.9606</td>\n",
              "      <td>66.84028</td>\n",
              "      <td>240.4514</td>\n",
              "      <td>203.1250</td>\n",
              "      <td>NORMAL</td>\n",
              "    </tr>\n",
              "    <tr>\n",
              "      <th>4</th>\n",
              "      <td>2018-04-01 00:04:00</td>\n",
              "      <td>2.445718</td>\n",
              "      <td>47.13541</td>\n",
              "      <td>53.2118</td>\n",
              "      <td>46.397568</td>\n",
              "      <td>636.4583</td>\n",
              "      <td>76.58897</td>\n",
              "      <td>13.35359</td>\n",
              "      <td>16.21094</td>\n",
              "      <td>15.69734</td>\n",
              "      <td>...</td>\n",
              "      <td>41.40625</td>\n",
              "      <td>38.773150</td>\n",
              "      <td>65.10416</td>\n",
              "      <td>51.79398</td>\n",
              "      <td>38.773150</td>\n",
              "      <td>158.2755</td>\n",
              "      <td>66.55093</td>\n",
              "      <td>242.1875</td>\n",
              "      <td>201.3889</td>\n",
              "      <td>NORMAL</td>\n",
              "    </tr>\n",
              "  </tbody>\n",
              "</table>\n",
              "<p>5 rows × 54 columns</p>\n",
              "</div>"
            ],
            "text/plain": [
              "             timestamp  sensor_00  sensor_01  sensor_02  sensor_03  sensor_04  \\\n",
              "0  2018-04-01 00:00:00   2.465394   47.09201    53.2118  46.310760   634.3750   \n",
              "1  2018-04-01 00:01:00   2.465394   47.09201    53.2118  46.310760   634.3750   \n",
              "2  2018-04-01 00:02:00   2.444734   47.35243    53.2118  46.397570   638.8889   \n",
              "3  2018-04-01 00:03:00   2.460474   47.09201    53.1684  46.397568   628.1250   \n",
              "4  2018-04-01 00:04:00   2.445718   47.13541    53.2118  46.397568   636.4583   \n",
              "\n",
              "   sensor_05  sensor_06  sensor_07  sensor_08  ...  sensor_43  sensor_44  \\\n",
              "0   76.45975   13.41146   16.13136   15.56713  ...   41.92708  39.641200   \n",
              "1   76.45975   13.41146   16.13136   15.56713  ...   41.92708  39.641200   \n",
              "2   73.54598   13.32465   16.03733   15.61777  ...   41.66666  39.351852   \n",
              "3   76.98898   13.31742   16.24711   15.69734  ...   40.88541  39.062500   \n",
              "4   76.58897   13.35359   16.21094   15.69734  ...   41.40625  38.773150   \n",
              "\n",
              "   sensor_45  sensor_46  sensor_47  sensor_48  sensor_49  sensor_50  \\\n",
              "0   65.68287   50.92593  38.194440   157.9861   67.70834   243.0556   \n",
              "1   65.68287   50.92593  38.194440   157.9861   67.70834   243.0556   \n",
              "2   65.39352   51.21528  38.194443   155.9606   67.12963   241.3194   \n",
              "3   64.81481   51.21528  38.194440   155.9606   66.84028   240.4514   \n",
              "4   65.10416   51.79398  38.773150   158.2755   66.55093   242.1875   \n",
              "\n",
              "   sensor_51  machine_status  \n",
              "0   201.3889          NORMAL  \n",
              "1   201.3889          NORMAL  \n",
              "2   203.7037          NORMAL  \n",
              "3   203.1250          NORMAL  \n",
              "4   201.3889          NORMAL  \n",
              "\n",
              "[5 rows x 54 columns]"
            ]
          },
          "metadata": {},
          "execution_count": 60
        }
      ],
      "metadata": {}
    },
    {
      "cell_type": "markdown",
      "source": [
        "By checking the distribution of the label categories, we can see the data is very imbalanced."
      ],
      "metadata": {}
    },
    {
      "cell_type": "code",
      "execution_count": 62,
      "source": [
        "df.groupby('machine_status').agg({'machine_status':'count'})"
      ],
      "outputs": [
        {
          "output_type": "execute_result",
          "data": {
            "text/html": [
              "<div>\n",
              "<style scoped>\n",
              "    .dataframe tbody tr th:only-of-type {\n",
              "        vertical-align: middle;\n",
              "    }\n",
              "\n",
              "    .dataframe tbody tr th {\n",
              "        vertical-align: top;\n",
              "    }\n",
              "\n",
              "    .dataframe thead th {\n",
              "        text-align: right;\n",
              "    }\n",
              "</style>\n",
              "<table border=\"1\" class=\"dataframe\">\n",
              "  <thead>\n",
              "    <tr style=\"text-align: right;\">\n",
              "      <th></th>\n",
              "      <th>machine_status</th>\n",
              "    </tr>\n",
              "    <tr>\n",
              "      <th>machine_status</th>\n",
              "      <th></th>\n",
              "    </tr>\n",
              "  </thead>\n",
              "  <tbody>\n",
              "    <tr>\n",
              "      <th>BROKEN</th>\n",
              "      <td>7</td>\n",
              "    </tr>\n",
              "    <tr>\n",
              "      <th>NORMAL</th>\n",
              "      <td>205836</td>\n",
              "    </tr>\n",
              "    <tr>\n",
              "      <th>RECOVERING</th>\n",
              "      <td>14477</td>\n",
              "    </tr>\n",
              "  </tbody>\n",
              "</table>\n",
              "</div>"
            ],
            "text/plain": [
              "                machine_status\n",
              "machine_status                \n",
              "BROKEN                       7\n",
              "NORMAL                  205836\n",
              "RECOVERING               14477"
            ]
          },
          "metadata": {},
          "execution_count": 62
        }
      ],
      "metadata": {}
    },
    {
      "cell_type": "markdown",
      "source": [
        "## Indexing the label categories\r\n",
        "We are going to categories the machine states to Normal as 0, and Recovering or Broken as 1."
      ],
      "metadata": {}
    },
    {
      "cell_type": "code",
      "execution_count": 61,
      "source": [
        "df['label'] = df['machine_status'].apply(lambda x: 1 if x =='NORMAL' else 0)\r\n",
        "\r\n",
        "df.head()"
      ],
      "outputs": [
        {
          "output_type": "execute_result",
          "data": {
            "text/html": [
              "<div>\n",
              "<style scoped>\n",
              "    .dataframe tbody tr th:only-of-type {\n",
              "        vertical-align: middle;\n",
              "    }\n",
              "\n",
              "    .dataframe tbody tr th {\n",
              "        vertical-align: top;\n",
              "    }\n",
              "\n",
              "    .dataframe thead th {\n",
              "        text-align: right;\n",
              "    }\n",
              "</style>\n",
              "<table border=\"1\" class=\"dataframe\">\n",
              "  <thead>\n",
              "    <tr style=\"text-align: right;\">\n",
              "      <th></th>\n",
              "      <th>timestamp</th>\n",
              "      <th>sensor_00</th>\n",
              "      <th>sensor_01</th>\n",
              "      <th>sensor_02</th>\n",
              "      <th>sensor_03</th>\n",
              "      <th>sensor_04</th>\n",
              "      <th>sensor_05</th>\n",
              "      <th>sensor_06</th>\n",
              "      <th>sensor_07</th>\n",
              "      <th>sensor_08</th>\n",
              "      <th>...</th>\n",
              "      <th>sensor_44</th>\n",
              "      <th>sensor_45</th>\n",
              "      <th>sensor_46</th>\n",
              "      <th>sensor_47</th>\n",
              "      <th>sensor_48</th>\n",
              "      <th>sensor_49</th>\n",
              "      <th>sensor_50</th>\n",
              "      <th>sensor_51</th>\n",
              "      <th>machine_status</th>\n",
              "      <th>label</th>\n",
              "    </tr>\n",
              "  </thead>\n",
              "  <tbody>\n",
              "    <tr>\n",
              "      <th>0</th>\n",
              "      <td>2018-04-01 00:00:00</td>\n",
              "      <td>2.465394</td>\n",
              "      <td>47.09201</td>\n",
              "      <td>53.2118</td>\n",
              "      <td>46.310760</td>\n",
              "      <td>634.3750</td>\n",
              "      <td>76.45975</td>\n",
              "      <td>13.41146</td>\n",
              "      <td>16.13136</td>\n",
              "      <td>15.56713</td>\n",
              "      <td>...</td>\n",
              "      <td>39.641200</td>\n",
              "      <td>65.68287</td>\n",
              "      <td>50.92593</td>\n",
              "      <td>38.194440</td>\n",
              "      <td>157.9861</td>\n",
              "      <td>67.70834</td>\n",
              "      <td>243.0556</td>\n",
              "      <td>201.3889</td>\n",
              "      <td>NORMAL</td>\n",
              "      <td>1</td>\n",
              "    </tr>\n",
              "    <tr>\n",
              "      <th>1</th>\n",
              "      <td>2018-04-01 00:01:00</td>\n",
              "      <td>2.465394</td>\n",
              "      <td>47.09201</td>\n",
              "      <td>53.2118</td>\n",
              "      <td>46.310760</td>\n",
              "      <td>634.3750</td>\n",
              "      <td>76.45975</td>\n",
              "      <td>13.41146</td>\n",
              "      <td>16.13136</td>\n",
              "      <td>15.56713</td>\n",
              "      <td>...</td>\n",
              "      <td>39.641200</td>\n",
              "      <td>65.68287</td>\n",
              "      <td>50.92593</td>\n",
              "      <td>38.194440</td>\n",
              "      <td>157.9861</td>\n",
              "      <td>67.70834</td>\n",
              "      <td>243.0556</td>\n",
              "      <td>201.3889</td>\n",
              "      <td>NORMAL</td>\n",
              "      <td>1</td>\n",
              "    </tr>\n",
              "    <tr>\n",
              "      <th>2</th>\n",
              "      <td>2018-04-01 00:02:00</td>\n",
              "      <td>2.444734</td>\n",
              "      <td>47.35243</td>\n",
              "      <td>53.2118</td>\n",
              "      <td>46.397570</td>\n",
              "      <td>638.8889</td>\n",
              "      <td>73.54598</td>\n",
              "      <td>13.32465</td>\n",
              "      <td>16.03733</td>\n",
              "      <td>15.61777</td>\n",
              "      <td>...</td>\n",
              "      <td>39.351852</td>\n",
              "      <td>65.39352</td>\n",
              "      <td>51.21528</td>\n",
              "      <td>38.194443</td>\n",
              "      <td>155.9606</td>\n",
              "      <td>67.12963</td>\n",
              "      <td>241.3194</td>\n",
              "      <td>203.7037</td>\n",
              "      <td>NORMAL</td>\n",
              "      <td>1</td>\n",
              "    </tr>\n",
              "    <tr>\n",
              "      <th>3</th>\n",
              "      <td>2018-04-01 00:03:00</td>\n",
              "      <td>2.460474</td>\n",
              "      <td>47.09201</td>\n",
              "      <td>53.1684</td>\n",
              "      <td>46.397568</td>\n",
              "      <td>628.1250</td>\n",
              "      <td>76.98898</td>\n",
              "      <td>13.31742</td>\n",
              "      <td>16.24711</td>\n",
              "      <td>15.69734</td>\n",
              "      <td>...</td>\n",
              "      <td>39.062500</td>\n",
              "      <td>64.81481</td>\n",
              "      <td>51.21528</td>\n",
              "      <td>38.194440</td>\n",
              "      <td>155.9606</td>\n",
              "      <td>66.84028</td>\n",
              "      <td>240.4514</td>\n",
              "      <td>203.1250</td>\n",
              "      <td>NORMAL</td>\n",
              "      <td>1</td>\n",
              "    </tr>\n",
              "    <tr>\n",
              "      <th>4</th>\n",
              "      <td>2018-04-01 00:04:00</td>\n",
              "      <td>2.445718</td>\n",
              "      <td>47.13541</td>\n",
              "      <td>53.2118</td>\n",
              "      <td>46.397568</td>\n",
              "      <td>636.4583</td>\n",
              "      <td>76.58897</td>\n",
              "      <td>13.35359</td>\n",
              "      <td>16.21094</td>\n",
              "      <td>15.69734</td>\n",
              "      <td>...</td>\n",
              "      <td>38.773150</td>\n",
              "      <td>65.10416</td>\n",
              "      <td>51.79398</td>\n",
              "      <td>38.773150</td>\n",
              "      <td>158.2755</td>\n",
              "      <td>66.55093</td>\n",
              "      <td>242.1875</td>\n",
              "      <td>201.3889</td>\n",
              "      <td>NORMAL</td>\n",
              "      <td>1</td>\n",
              "    </tr>\n",
              "  </tbody>\n",
              "</table>\n",
              "<p>5 rows × 55 columns</p>\n",
              "</div>"
            ],
            "text/plain": [
              "             timestamp  sensor_00  sensor_01  sensor_02  sensor_03  sensor_04  \\\n",
              "0  2018-04-01 00:00:00   2.465394   47.09201    53.2118  46.310760   634.3750   \n",
              "1  2018-04-01 00:01:00   2.465394   47.09201    53.2118  46.310760   634.3750   \n",
              "2  2018-04-01 00:02:00   2.444734   47.35243    53.2118  46.397570   638.8889   \n",
              "3  2018-04-01 00:03:00   2.460474   47.09201    53.1684  46.397568   628.1250   \n",
              "4  2018-04-01 00:04:00   2.445718   47.13541    53.2118  46.397568   636.4583   \n",
              "\n",
              "   sensor_05  sensor_06  sensor_07  sensor_08  ...  sensor_44  sensor_45  \\\n",
              "0   76.45975   13.41146   16.13136   15.56713  ...  39.641200   65.68287   \n",
              "1   76.45975   13.41146   16.13136   15.56713  ...  39.641200   65.68287   \n",
              "2   73.54598   13.32465   16.03733   15.61777  ...  39.351852   65.39352   \n",
              "3   76.98898   13.31742   16.24711   15.69734  ...  39.062500   64.81481   \n",
              "4   76.58897   13.35359   16.21094   15.69734  ...  38.773150   65.10416   \n",
              "\n",
              "   sensor_46  sensor_47  sensor_48  sensor_49  sensor_50  sensor_51  \\\n",
              "0   50.92593  38.194440   157.9861   67.70834   243.0556   201.3889   \n",
              "1   50.92593  38.194440   157.9861   67.70834   243.0556   201.3889   \n",
              "2   51.21528  38.194443   155.9606   67.12963   241.3194   203.7037   \n",
              "3   51.21528  38.194440   155.9606   66.84028   240.4514   203.1250   \n",
              "4   51.79398  38.773150   158.2755   66.55093   242.1875   201.3889   \n",
              "\n",
              "   machine_status  label  \n",
              "0          NORMAL      1  \n",
              "1          NORMAL      1  \n",
              "2          NORMAL      1  \n",
              "3          NORMAL      1  \n",
              "4          NORMAL      1  \n",
              "\n",
              "[5 rows x 55 columns]"
            ]
          },
          "metadata": {},
          "execution_count": 61
        }
      ],
      "metadata": {}
    },
    {
      "cell_type": "markdown",
      "source": [
        "## Cleaning the Data\r\n",
        "Checking the number of missing values in our sensor data, we can see how Sensor_15 is an entirly empty column."
      ],
      "metadata": {}
    },
    {
      "cell_type": "code",
      "execution_count": 63,
      "source": [
        "df.isna().sum()"
      ],
      "outputs": [
        {
          "output_type": "execute_result",
          "data": {
            "text/plain": [
              "timestamp              0\n",
              "sensor_00          10208\n",
              "sensor_01            369\n",
              "sensor_02             19\n",
              "sensor_03             19\n",
              "sensor_04             19\n",
              "sensor_05             19\n",
              "sensor_06           4798\n",
              "sensor_07           5451\n",
              "sensor_08           5107\n",
              "sensor_09           4595\n",
              "sensor_10             19\n",
              "sensor_11             19\n",
              "sensor_12             19\n",
              "sensor_13             19\n",
              "sensor_14             21\n",
              "sensor_15         220320\n",
              "sensor_16             31\n",
              "sensor_17             46\n",
              "sensor_18             46\n",
              "sensor_19             16\n",
              "sensor_20             16\n",
              "sensor_21             16\n",
              "sensor_22             41\n",
              "sensor_23             16\n",
              "sensor_24             16\n",
              "sensor_25             36\n",
              "sensor_26             20\n",
              "sensor_27             16\n",
              "sensor_28             16\n",
              "sensor_29             72\n",
              "sensor_30            261\n",
              "sensor_31             16\n",
              "sensor_32             68\n",
              "sensor_33             16\n",
              "sensor_34             16\n",
              "sensor_35             16\n",
              "sensor_36             16\n",
              "sensor_37             16\n",
              "sensor_38             27\n",
              "sensor_39             27\n",
              "sensor_40             27\n",
              "sensor_41             27\n",
              "sensor_42             27\n",
              "sensor_43             27\n",
              "sensor_44             27\n",
              "sensor_45             27\n",
              "sensor_46             27\n",
              "sensor_47             27\n",
              "sensor_48             27\n",
              "sensor_49             27\n",
              "sensor_50          77017\n",
              "sensor_51          15383\n",
              "machine_status         0\n",
              "label                  0\n",
              "dtype: int64"
            ]
          },
          "metadata": {},
          "execution_count": 63
        }
      ],
      "metadata": {}
    },
    {
      "cell_type": "code",
      "execution_count": 5,
      "source": [
        "df = df.drop(['sensor_15', 'sensor_50'], axis=1)\r\n",
        "df = df.dropna()"
      ],
      "outputs": [],
      "metadata": {}
    },
    {
      "cell_type": "code",
      "execution_count": 6,
      "source": [
        "df.groupby('machine_status').agg({'label':'count'})"
      ],
      "outputs": [
        {
          "output_type": "execute_result",
          "data": {
            "text/html": [
              "<div>\n",
              "<style scoped>\n",
              "    .dataframe tbody tr th:only-of-type {\n",
              "        vertical-align: middle;\n",
              "    }\n",
              "\n",
              "    .dataframe tbody tr th {\n",
              "        vertical-align: top;\n",
              "    }\n",
              "\n",
              "    .dataframe thead th {\n",
              "        text-align: right;\n",
              "    }\n",
              "</style>\n",
              "<table border=\"1\" class=\"dataframe\">\n",
              "  <thead>\n",
              "    <tr style=\"text-align: right;\">\n",
              "      <th></th>\n",
              "      <th>label</th>\n",
              "    </tr>\n",
              "    <tr>\n",
              "      <th>machine_status</th>\n",
              "      <th></th>\n",
              "    </tr>\n",
              "  </thead>\n",
              "  <tbody>\n",
              "    <tr>\n",
              "      <th>BROKEN</th>\n",
              "      <td>6</td>\n",
              "    </tr>\n",
              "    <tr>\n",
              "      <th>NORMAL</th>\n",
              "      <td>192769</td>\n",
              "    </tr>\n",
              "    <tr>\n",
              "      <th>RECOVERING</th>\n",
              "      <td>3040</td>\n",
              "    </tr>\n",
              "  </tbody>\n",
              "</table>\n",
              "</div>"
            ],
            "text/plain": [
              "                 label\n",
              "machine_status        \n",
              "BROKEN               6\n",
              "NORMAL          192769\n",
              "RECOVERING        3040"
            ]
          },
          "metadata": {},
          "execution_count": 6
        }
      ],
      "metadata": {}
    },
    {
      "cell_type": "code",
      "execution_count": 7,
      "source": [
        "label = np.array(df['label'])\r\n",
        "Features = np.array(df.iloc[:,1:51])"
      ],
      "outputs": [],
      "metadata": {}
    },
    {
      "cell_type": "markdown",
      "source": [
        "## Spliting the data into test and train subsets"
      ],
      "metadata": {}
    },
    {
      "cell_type": "code",
      "execution_count": 8,
      "source": [
        "nr.seed(123)\r\n",
        "indx = range(Features.shape[0])\r\n",
        "indx = ms.train_test_split(indx, test_size = 0.25 )\r\n",
        "X_train = Features[indx[0],:]\r\n",
        "Y_train = np.ravel(label[indx[0]])\r\n",
        "X_test = Features[indx[1],:]\r\n",
        "Y_test = np.ravel(label[indx[1]])"
      ],
      "outputs": [],
      "metadata": {}
    },
    {
      "cell_type": "markdown",
      "source": [
        "## Scaling the features "
      ],
      "metadata": {}
    },
    {
      "cell_type": "code",
      "execution_count": 9,
      "source": [
        "scaler = preprocessing.StandardScaler().fit(X_train)\r\n",
        "\r\n",
        "X_train = scaler.transform(X_train)\r\n",
        "X_test = scaler.transform(X_test)"
      ],
      "outputs": [],
      "metadata": {}
    },
    {
      "cell_type": "markdown",
      "source": [
        "## Training the Logistic Regression model"
      ],
      "metadata": {}
    },
    {
      "cell_type": "code",
      "execution_count": 10,
      "source": [
        "logistic_mod = linear_model.LogisticRegression(class_weight = {0:99, 1:1}, max_iter=1000)\r\n",
        "logistic_mod.fit(X_train, Y_train)\r\n",
        "\r\n",
        "predictions = logistic_mod.predict(X_test)\r\n",
        "score = logistic_mod.score(X_test, Y_test)\r\n",
        "\r\n",
        "print(score)"
      ],
      "outputs": [
        {
          "output_type": "stream",
          "name": "stdout",
          "text": [
            "0.995403848510847\n"
          ]
        }
      ],
      "metadata": {}
    },
    {
      "cell_type": "markdown",
      "source": [
        "## Defining a custom function to show Confusion Matrix and other metrics"
      ],
      "metadata": {}
    },
    {
      "cell_type": "code",
      "execution_count": 12,
      "source": [
        "probabilities = logistic_mod.predict_proba(X_test)\r\n",
        "def score_model(probs, threshold):\r\n",
        "    return np.array([1 if x > threshold else 0 for x in probs[:,1]])\r\n",
        "scores = score_model(probabilities, 0.5)\r\n",
        "\r\n",
        "\r\n",
        "def print_metrics(labels, scores):\r\n",
        "    metrics = sklm.precision_recall_fscore_support(labels, scores)\r\n",
        "    conf = sklm.confusion_matrix(labels, scores)\r\n",
        "    print('                 Confusion matrix')\r\n",
        "    print('                 Score positive    Score negative')\r\n",
        "    print('Actual positive    %6d' % conf[0,0] + '             %5d' % conf[0,1])\r\n",
        "    print('Actual negative    %6d' % conf[1,0] + '             %5d' % conf[1,1])\r\n",
        "    print('')\r\n",
        "    print('Accuracy  %0.2f' % sklm.accuracy_score(labels, scores))\r\n",
        "    print(' ')\r\n",
        "    print('           Positive      Negative')\r\n",
        "    print('Num case   %6d' % metrics[3][0] + '        %6d' % metrics[3][1])\r\n",
        "    print('Precision  %6.2f' % metrics[0][0] + '        %6.2f' % metrics[0][1])\r\n",
        "    print('Recall     %6.2f' % metrics[1][0] + '        %6.2f' % metrics[1][1])\r\n",
        "    print('F1         %6.2f' % metrics[2][0] + '        %6.2f' % metrics[2][1])\r\n",
        "\r\n",
        "\r\n",
        "    \r\n",
        "print_metrics(Y_test, scores)    "
      ],
      "outputs": [
        {
          "output_type": "stream",
          "name": "stdout",
          "text": [
            "                 Confusion matrix\n",
            "                 Score positive    Score negative\n",
            "Actual positive       757                 1\n",
            "Actual negative       224             47972\n",
            "\n",
            "Accuracy  1.00\n",
            " \n",
            "           Positive      Negative\n",
            "Num case      758         48196\n",
            "Precision    0.77          1.00\n",
            "Recall       1.00          1.00\n",
            "F1           0.87          1.00\n"
          ]
        }
      ],
      "metadata": {}
    },
    {
      "cell_type": "markdown",
      "source": [
        "## Defining a custom function for ploting the ROC and showing AUC"
      ],
      "metadata": {}
    },
    {
      "cell_type": "code",
      "execution_count": 13,
      "source": [
        "def plot_auc(labels, probs):\r\n",
        "    ## Compute the false positive rate, true positive rate\r\n",
        "    ## and threshold along with the AUC\r\n",
        "    fpr, tpr, threshold = sklm.roc_curve(labels, probs[:,1])\r\n",
        "    auc = sklm.auc(fpr, tpr)\r\n",
        "    \r\n",
        "    ## Plot the result\r\n",
        "    plt.title('Receiver Operating Characteristic')\r\n",
        "    plt.plot(fpr, tpr, color = 'orange', label = 'AUC = %0.2f' % auc)\r\n",
        "    plt.legend(loc = 'lower right')\r\n",
        "    plt.plot([0, 1], [0, 1],'r--')\r\n",
        "    plt.xlim([0, 1])\r\n",
        "    plt.ylim([0, 1])\r\n",
        "    plt.ylabel('True Positive Rate')\r\n",
        "    plt.xlabel('False Positive Rate')\r\n",
        "    plt.show()\r\n",
        "    \r\n",
        "plot_auc(Y_test, probabilities)   "
      ],
      "outputs": [
        {
          "output_type": "display_data",
          "data": {
            "image/png": "[encoded data removed]",
            "text/plain": [
              "<Figure size 432x288 with 1 Axes>"
            ]
          },
          "metadata": {
            "needs_background": "light"
          }
        }
      ],
      "metadata": {}
    },
    {
      "cell_type": "markdown",
      "source": [
        "## Synthetic Minority Oversampling Technique"
      ],
      "metadata": {}
    },
    {
      "cell_type": "code",
      "execution_count": 14,
      "source": [
        "import imblearn\r\n",
        "from imblearn.over_sampling import SMOTE\r\n",
        "sm = SMOTE(random_state=23, sampling_strategy=1)\r\n",
        "X_train_sm, Y_train_sm = sm.fit_resample(X_train, Y_train)\r\n",
        "\r\n",
        "X_test_sm, Y_test_sm = sm.fit_resample(X_test, Y_test)\r\n",
        "\r\n",
        "len(X_test_sm)"
      ],
      "outputs": [],
      "metadata": {}
    },
    {
      "cell_type": "markdown",
      "source": [
        "## Running the Logistic Regression with the oversampled data"
      ],
      "metadata": {}
    },
    {
      "cell_type": "code",
      "execution_count": 16,
      "source": [
        "logistic_mod = linear_model.LogisticRegression( max_iter=100)\r\n",
        "logistic_mod.fit(X_train_sm, Y_train_sm)\r\n",
        "\r\n",
        "predictions = logistic_mod.predict(X_test_sm)\r\n",
        "score = logistic_mod.score(X_test_sm, Y_test_sm)\r\n",
        "\r\n",
        "probabilities = logistic_mod.predict_proba(X_test_sm)\r\n",
        "def score_model(probs, threshold):\r\n",
        "    return np.array([1 if x > threshold else 0 for x in probs[:,1]])\r\n",
        "scores = score_model(probabilities, 0.5)\r\n",
        "\r\n",
        "print_metrics(Y_test_sm, scores)    \r\n",
        "plot_auc(Y_test_sm, probabilities)   "
      ],
      "outputs": [
        {
          "output_type": "stream",
          "name": "stdout",
          "text": [
            "                 Confusion matrix\n",
            "                 Score positive    Score negative\n",
            "Actual positive     48162                34\n",
            "Actual negative       194             48002\n",
            "\n",
            "Accuracy  1.00\n",
            " \n",
            "           Positive      Negative\n",
            "Num case    48196         48196\n",
            "Precision    1.00          1.00\n",
            "Recall       1.00          1.00\n",
            "F1           1.00          1.00\n"
          ]
        },
        {
          "output_type": "stream",
          "name": "stderr",
          "text": [
            "C:\\Python39\\lib\\site-packages\\sklearn\\linear_model\\_logistic.py:814: ConvergenceWarning: lbfgs failed to converge (status=1):\n",
            "STOP: TOTAL NO. of ITERATIONS REACHED LIMIT.\n",
            "\n",
            "Increase the number of iterations (max_iter) or scale the data as shown in:\n",
            "    https://scikit-learn.org/stable/modules/preprocessing.html\n",
            "Please also refer to the documentation for alternative solver options:\n",
            "    https://scikit-learn.org/stable/modules/linear_model.html#logistic-regression\n",
            "  n_iter_i = _check_optimize_result(\n"
          ]
        },
        {
          "output_type": "display_data",
          "data": {
            "image/png": "[encoded data removed]",
            "text/plain": [
              "<Figure size 432x288 with 1 Axes>"
            ]
          },
          "metadata": {
            "needs_background": "light"
          }
        }
      ],
      "metadata": {}
    },
    {
      "cell_type": "markdown",
      "source": [
        "## Running Logistic Regression with Train, Validation and Test Data"
      ],
      "metadata": {}
    },
    {
      "cell_type": "code",
      "execution_count": 46,
      "source": [
        "label = np.array(df['label'])\r\n",
        "Features = np.array(df.iloc[:,1:51])\r\n",
        "\r\n",
        "nr.seed(123)\r\n",
        "X_train, X_test, Y_train, Y_test = ms.train_test_split(Features, label, test_size=0.2)\r\n",
        "X_train, X_val, Y_train, Y_val = ms.train_test_split(X_train, Y_train, test_size=0.25)\r\n",
        "\r\n",
        "\r\n",
        "scaler = preprocessing.StandardScaler().fit(X_train)\r\n",
        "X_train = scaler.transform(X_train)\r\n",
        "X_val = scaler.transform(X_val)\r\n",
        "X_test = scaler.transform(X_test)"
      ],
      "outputs": [],
      "metadata": {}
    },
    {
      "cell_type": "markdown",
      "source": [
        "## Running the model on Validation Data"
      ],
      "metadata": {}
    },
    {
      "cell_type": "code",
      "execution_count": 53,
      "source": [
        "logistic_mod = linear_model.LogisticRegression(class_weight = {0:99, 1:1}, max_iter=1000)\r\n",
        "logistic_mod.fit(X_train, Y_train)\r\n",
        "\r\n",
        "predictions = logistic_mod.predict(X_val)\r\n",
        "score = logistic_mod.score(X_val, Y_val)\r\n",
        "\r\n",
        "print(score)"
      ],
      "outputs": [
        {
          "output_type": "stream",
          "name": "stdout",
          "text": [
            "0.995659168092332\n"
          ]
        }
      ],
      "metadata": {}
    },
    {
      "cell_type": "markdown",
      "source": [
        "## Resutls of  model on Validation data"
      ],
      "metadata": {}
    },
    {
      "cell_type": "code",
      "execution_count": 54,
      "source": [
        "probabilities = logistic_mod.predict_proba(X_val)\r\n",
        "scores = score_model(probabilities, 0.5)\r\n",
        "print_metrics(Y_val, scores) \r\n",
        "plot_auc(Y_val, probabilities)    "
      ],
      "outputs": [
        {
          "output_type": "stream",
          "name": "stdout",
          "text": [
            "                 Confusion matrix\n",
            "                 Score positive    Score negative\n",
            "Actual positive       618                 1\n",
            "Actual negative       169             38375\n",
            "\n",
            "Accuracy  1.00\n",
            " \n",
            "           Positive      Negative\n",
            "Num case      619         38544\n",
            "Precision    0.79          1.00\n",
            "Recall       1.00          1.00\n",
            "F1           0.88          1.00\n"
          ]
        },
        {
          "output_type": "display_data",
          "data": {
            "image/png": "[encoded data removed]",
            "text/plain": [
              "<Figure size 432x288 with 1 Axes>"
            ]
          },
          "metadata": {
            "needs_background": "light"
          }
        }
      ],
      "metadata": {}
    },
    {
      "cell_type": "markdown",
      "source": [
        "## Running the model on Test data"
      ],
      "metadata": {}
    },
    {
      "cell_type": "code",
      "execution_count": 57,
      "source": [
        "logistic_mod = linear_model.LogisticRegression(class_weight = {0:99, 1:1}, max_iter=1000)\r\n",
        "logistic_mod.fit(X_train, Y_train)\r\n",
        "\r\n",
        "predictions = logistic_mod.predict(X_test)\r\n",
        "score = logistic_mod.score(X_test, Y_test)\r\n",
        "print(score)"
      ],
      "outputs": [
        {
          "output_type": "stream",
          "name": "stdout",
          "text": [
            "0.9955059622602968\n"
          ]
        }
      ],
      "metadata": {}
    },
    {
      "cell_type": "code",
      "execution_count": 56,
      "source": [
        "probabilities = logistic_mod.predict_proba(X_test)\r\n",
        "scores = score_model(probabilities, 0.5)\r\n",
        "print_metrics(Y_test, scores) \r\n",
        "plot_auc(Y_test, probabilities)    "
      ],
      "outputs": [
        {
          "output_type": "stream",
          "name": "stdout",
          "text": [
            "                 Confusion matrix\n",
            "                 Score positive    Score negative\n",
            "Actual positive       607                 1\n",
            "Actual negative       175             38380\n",
            "\n",
            "Accuracy  1.00\n",
            " \n",
            "           Positive      Negative\n",
            "Num case      608         38555\n",
            "Precision    0.78          1.00\n",
            "Recall       1.00          1.00\n",
            "F1           0.87          1.00\n"
          ]
        },
        {
          "output_type": "display_data",
          "data": {
            "image/png": "[encoded data removed]",
            "text/plain": [
              "<Figure size 432x288 with 1 Axes>"
            ]
          },
          "metadata": {
            "needs_background": "light"
          }
        }
      ],
      "metadata": {}
    }
  ]
}